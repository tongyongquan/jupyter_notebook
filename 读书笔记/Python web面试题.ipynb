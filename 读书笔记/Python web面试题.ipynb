{
 "cells": [
  {
   "cell_type": "markdown",
   "metadata": {},
   "source": [
    "![找不到图片](http://www.68idc.cn/help/server/linux/linuxpian/20160424/160211173382022.jpg \"图片\")\n",
    "参考文章:\n",
    "[PYTHON 一些基础面试题目总结](http://blog.csdn.net/alvine008/article/details/39229057 \"面试题\")\n",
    "Python是如何进行内存管理的?\n",
    "-----\n",
    "1.对象的引用计数机制\n",
    ">- 计数增加:对一个对象分配新的名称,放入一个容器中(列表,元组,字典)\n",
    ">- 计数减少:del语句对对象的别名显示的销毁,超出作用域或被重新赋值\n",
    ">- sys.getrefcount( )获得对象的当前引用计数,引用计数比你猜测得要大得多。\n",
    ">- 对于不可变数据（如数字和字符串），解释器会在程序的不同部分共享内存，以便节约内存。\n",
    "\n",
    "2.垃圾回收\n",
    ">- 当一个对象的引用计数归零时，它将被垃圾收集机制处理掉。\n",
    ">- 解释器会定期执行一个循环检测器，搜索不可访问对象的循环并删除它们。  \n",
    "\n",
    "3.内存池机制\n",
    ">- Python提供了对内存的垃圾收集机制，但是它将不用的内存放到内存池而不是返回给操作系统。\n",
    ">- 所有小于256个字节的对象都使用pymalloc实现的分配器，而大的对象则使用系统的malloc。\n",
    "\n"
   ]
  },
  {
   "cell_type": "markdown",
   "metadata": {},
   "source": []
  },
  {
   "cell_type": "code",
   "execution_count": null,
   "metadata": {},
   "outputs": [],
   "source": []
  }
 ],
 "metadata": {
  "kernelspec": {
   "display_name": "Python 3",
   "language": "python",
   "name": "python3"
  },
  "language_info": {
   "codemirror_mode": {
    "name": "ipython",
    "version": 3
   },
   "file_extension": ".py",
   "mimetype": "text/x-python",
   "name": "python",
   "nbconvert_exporter": "python",
   "pygments_lexer": "ipython3",
   "version": "3.6.3"
  }
 },
 "nbformat": 4,
 "nbformat_minor": 2
}
