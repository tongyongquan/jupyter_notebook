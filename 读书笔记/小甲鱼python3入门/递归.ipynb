{
 "cells": [
  {
   "cell_type": "code",
   "execution_count": 2,
   "metadata": {},
   "outputs": [
    {
     "data": {
      "text/plain": [
       "120"
      ]
     },
     "execution_count": 2,
     "metadata": {},
     "output_type": "execute_result"
    }
   ],
   "source": [
    "#迭代求阶乘函数\n",
    "def nn(n):\n",
    "    result=1\n",
    "    for i in range (1,n+1):\n",
    "        result*=i\n",
    "    return result\n",
    "\n",
    "nn(5)"
   ]
  },
  {
   "cell_type": "code",
   "execution_count": 4,
   "metadata": {},
   "outputs": [
    {
     "data": {
      "text/plain": [
       "120"
      ]
     },
     "execution_count": 4,
     "metadata": {},
     "output_type": "execute_result"
    }
   ],
   "source": [
    "#递归实现阶乘:调用函数自身,有返回条件,从后往前推\n",
    "#递归调用直到停止,逐层返回,python3的默认深度是100次调用\n",
    "def factorial(n):\n",
    "    if n==1:\n",
    "        return 1\n",
    "    else:\n",
    "        return n*factorial(n-1)\n",
    "factorial(5)"
   ]
  },
  {
   "cell_type": "code",
   "execution_count": 12,
   "metadata": {},
   "outputs": [
    {
     "data": {
      "text/plain": [
       "6765"
      ]
     },
     "execution_count": 12,
     "metadata": {},
     "output_type": "execute_result"
    }
   ],
   "source": [
    "#迭代求斐波那契数列\n",
    "def nnn(n):\n",
    "    if n<1:\n",
    "        print('输入错误')\n",
    "        \n",
    "    if n==1 or n==2:\n",
    "        return 1\n",
    "    else:\n",
    "        n1=1\n",
    "        n2=1\n",
    "        n3=1\n",
    "        for i in range(1,n-1):\n",
    "            n3=n1+n2\n",
    "            n1=n2\n",
    "            n2=n3\n",
    "            n-=1\n",
    "        return n3\n",
    "nnn(20)\n",
    "        "
   ]
  },
  {
   "cell_type": "code",
   "execution_count": 14,
   "metadata": {},
   "outputs": [
    {
     "data": {
      "text/plain": [
       "6765"
      ]
     },
     "execution_count": 14,
     "metadata": {},
     "output_type": "execute_result"
    }
   ],
   "source": [
    "#递归求斐波那契数列\n",
    "def fab(n):\n",
    "    if n<1:\n",
    "        print('输入错误')\n",
    "        \n",
    "    if n==1 or n==2:\n",
    "        return 1\n",
    "    else:\n",
    "        return fab(n-1)+fab(n-2)\n",
    "\n",
    "fab(20)"
   ]
  },
  {
   "cell_type": "code",
   "execution_count": null,
   "metadata": {},
   "outputs": [],
   "source": [
    "#汉诺塔\n",
    "def hanoi(n,x,y,z):\n",
    "    if n==1:\n",
    "        print(x,'-->',z)   \n",
    "        #返回条件,源\n",
    "    else:\n",
    "        #深入过程\n",
    "        hanoi(n-1,x,z,y)#将前n-1个盘子从x移动到y上\n",
    "        print(x,'-->',z) #见最底下的最后一个盘子从x移到z\n",
    "        hanoi(n-1,y,x,z)#将y上的n-1个盘子移到z上\n",
    "n=input('输入盘子数:')\n",
    "hanoi(n,x,y,z)"
   ]
  }
 ],
 "metadata": {
  "kernelspec": {
   "display_name": "Python 3",
   "language": "python",
   "name": "python3"
  },
  "language_info": {
   "codemirror_mode": {
    "name": "ipython",
    "version": 3
   },
   "file_extension": ".py",
   "mimetype": "text/x-python",
   "name": "python",
   "nbconvert_exporter": "python",
   "pygments_lexer": "ipython3",
   "version": "3.6.3"
  }
 },
 "nbformat": 4,
 "nbformat_minor": 2
}
