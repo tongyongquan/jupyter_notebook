{
 "cells": [
  {
   "cell_type": "code",
   "execution_count": 1,
   "metadata": {},
   "outputs": [],
   "source": [
    "# try:\n",
    "#     检测范围\n",
    "# except Exception[as reason]:\n",
    "#     出现异常后的处理代码\n",
    "#finally:\n",
    "#    无论如何都要被执行的代码(关闭已打开的文件..)\n",
    "#else:\n",
    "#    没有任何问题就执行"
   ]
  },
  {
   "cell_type": "code",
   "execution_count": 2,
   "metadata": {},
   "outputs": [
    {
     "ename": "FileNotFoundError",
     "evalue": "[Errno 2] No such file or directory: '不存在的文件.txt'",
     "output_type": "error",
     "traceback": [
      "\u001b[0;31m---------------------------------------------------------------------------\u001b[0m",
      "\u001b[0;31mFileNotFoundError\u001b[0m                         Traceback (most recent call last)",
      "\u001b[0;32m<ipython-input-2-c47a2755ef4f>\u001b[0m in \u001b[0;36m<module>\u001b[0;34m()\u001b[0m\n\u001b[0;32m----> 1\u001b[0;31m \u001b[0mf\u001b[0m\u001b[0;34m=\u001b[0m\u001b[0mopen\u001b[0m\u001b[0;34m(\u001b[0m\u001b[0;34m'不存在的文件.txt'\u001b[0m\u001b[0;34m)\u001b[0m\u001b[0;34m\u001b[0m\u001b[0m\n\u001b[0m\u001b[1;32m      2\u001b[0m \u001b[0mprint\u001b[0m\u001b[0;34m(\u001b[0m\u001b[0mf\u001b[0m\u001b[0;34m.\u001b[0m\u001b[0mread\u001b[0m\u001b[0;34m(\u001b[0m\u001b[0;34m)\u001b[0m\u001b[0;34m)\u001b[0m\u001b[0;34m\u001b[0m\u001b[0m\n\u001b[1;32m      3\u001b[0m \u001b[0mf\u001b[0m\u001b[0;34m.\u001b[0m\u001b[0mclose\u001b[0m\u001b[0;34m(\u001b[0m\u001b[0;34m)\u001b[0m\u001b[0;34m\u001b[0m\u001b[0m\n",
      "\u001b[0;31mFileNotFoundError\u001b[0m: [Errno 2] No such file or directory: '不存在的文件.txt'"
     ]
    }
   ],
   "source": [
    "f=open('不存在的文件.txt')\n",
    "print(f.read())\n",
    "f.close()"
   ]
  },
  {
   "cell_type": "code",
   "execution_count": 6,
   "metadata": {},
   "outputs": [
    {
     "name": "stdout",
     "output_type": "stream",
     "text": [
      "文件出错了.\n",
      "错误的原因是:[Errno 2] No such file or directory: '不存在的文件.txt'\n"
     ]
    }
   ],
   "source": [
    "try:\n",
    "    f=open('不存在的文件.txt')\n",
    "    print(f.read())\n",
    "    f.close()\n",
    "except OSError as reason:\n",
    "    print('文件出错了.\\n错误的原因是:'+str(reason))\n",
    "except TypeError as reason2:\n",
    "    print('类型出错了.\\n错误的原因是:'+str(reason2))\n"
   ]
  },
  {
   "cell_type": "code",
   "execution_count": 7,
   "metadata": {},
   "outputs": [
    {
     "name": "stdout",
     "output_type": "stream",
     "text": [
      "类型出错了.\n",
      "错误的原因是:unsupported operand type(s) for +: 'int' and 'str'\n"
     ]
    }
   ],
   "source": [
    "#出现了异常后面语句不会执行\n",
    "try:\n",
    "    sum=1+'1'\n",
    "    f=open('不存在的文件.txt')\n",
    "    print(f.read())\n",
    "    f.close()\n",
    "except OSError as reason:\n",
    "    print('文件出错了.\\n错误的原因是:'+str(reason))\n",
    "except TypeError as reason2:\n",
    "    print('类型出错了.\\n错误的原因是:'+str(reason2))"
   ]
  },
  {
   "cell_type": "code",
   "execution_count": 10,
   "metadata": {},
   "outputs": [
    {
     "name": "stdout",
     "output_type": "stream",
     "text": [
      "文件出错了.\n"
     ]
    }
   ],
   "source": [
    "#同时捕获多个异常\n",
    "try:\n",
    "    #sum=1+'1'\n",
    "    f=open('不存在的文件.txt')\n",
    "    print(f.read())\n",
    "    f.close()\n",
    "except (OSError,TypeError) :\n",
    "    print('文件出错了.')\n"
   ]
  },
  {
   "cell_type": "code",
   "execution_count": 13,
   "metadata": {},
   "outputs": [
    {
     "ename": "ZeroDivisionError",
     "evalue": "除数为零的异常",
     "output_type": "error",
     "traceback": [
      "\u001b[0;31m---------------------------------------------------------------------------\u001b[0m",
      "\u001b[0;31mZeroDivisionError\u001b[0m                         Traceback (most recent call last)",
      "\u001b[0;32m<ipython-input-13-a114f3bbf5dc>\u001b[0m in \u001b[0;36m<module>\u001b[0;34m()\u001b[0m\n\u001b[1;32m      1\u001b[0m \u001b[0;31m#自己引发一个异常\u001b[0m\u001b[0;34m\u001b[0m\u001b[0;34m\u001b[0m\u001b[0m\n\u001b[0;32m----> 2\u001b[0;31m \u001b[0;32mraise\u001b[0m \u001b[0mZeroDivisionError\u001b[0m\u001b[0;34m(\u001b[0m\u001b[0;34m'除数为零的异常'\u001b[0m\u001b[0;34m)\u001b[0m\u001b[0;34m\u001b[0m\u001b[0m\n\u001b[0m",
      "\u001b[0;31mZeroDivisionError\u001b[0m: 除数为零的异常"
     ]
    }
   ],
   "source": [
    "#自己引发一个异常\n",
    "raise ZeroDivisionError('除数为零的异常')"
   ]
  },
  {
   "cell_type": "code",
   "execution_count": 18,
   "metadata": {},
   "outputs": [
    {
     "name": "stdout",
     "output_type": "stream",
     "text": [
      "文件出错了.\n",
      "not readable\n"
     ]
    }
   ],
   "source": [
    "#with 如果有异常会自动关闭文件\n",
    "#如果用finally可能会关闭一个没打开的文件\n",
    "try:\n",
    "    with open('不存在的文件.txt','w') as f:\n",
    "        print(f.read())\n",
    "        f.close()\n",
    "except (OSError,TypeError) as reason:\n",
    "    print('文件出错了.\\n'+str(reason))"
   ]
  },
  {
   "cell_type": "code",
   "execution_count": null,
   "metadata": {},
   "outputs": [],
   "source": []
  }
 ],
 "metadata": {
  "kernelspec": {
   "display_name": "Python 3",
   "language": "python",
   "name": "python3"
  },
  "language_info": {
   "codemirror_mode": {
    "name": "ipython",
    "version": 3
   },
   "file_extension": ".py",
   "mimetype": "text/x-python",
   "name": "python",
   "nbconvert_exporter": "python",
   "pygments_lexer": "ipython3",
   "version": "3.6.3"
  }
 },
 "nbformat": 4,
 "nbformat_minor": 2
}
