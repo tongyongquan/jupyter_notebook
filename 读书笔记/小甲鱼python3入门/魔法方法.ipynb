{
 "cells": [
  {
   "cell_type": "code",
   "execution_count": 3,
   "metadata": {},
   "outputs": [],
   "source": [
    "#魔法方法:特定情况下程序自己调用"
   ]
  },
  {
   "cell_type": "code",
   "execution_count": 4,
   "metadata": {},
   "outputs": [],
   "source": [
    "#初始化函数__init__\n",
    "#在需要对一个对象需要初始化时使用需要重写\n",
    "#不能返回"
   ]
  },
  {
   "cell_type": "code",
   "execution_count": 5,
   "metadata": {},
   "outputs": [
    {
     "data": {
      "text/plain": [
       "'SSSSSSS'"
      ]
     },
     "execution_count": 5,
     "metadata": {},
     "output_type": "execute_result"
    }
   ],
   "source": [
    "#构造函数__new__,在初始化init前,需要返回\n",
    "#如果要对构造进行重写时,修改后再返回父类的构造:\n",
    "\n",
    "class A(str):\n",
    "     def __new__(cls,string):\n",
    "        string = string.upper()\n",
    "        return str.__new__(cls,string)\n",
    "a=A('SSSSsss')\n",
    "a"
   ]
  },
  {
   "cell_type": "code",
   "execution_count": 6,
   "metadata": {},
   "outputs": [],
   "source": [
    "#析构__del__,在所有对象引用被删除后由回收机制调用\n",
    "class B:\n",
    "    def __del__(self):\n",
    "        print('del')\n",
    "b1=B()\n",
    "b2=b1"
   ]
  },
  {
   "cell_type": "code",
   "execution_count": 7,
   "metadata": {},
   "outputs": [],
   "source": [
    "del b2"
   ]
  },
  {
   "cell_type": "code",
   "execution_count": 8,
   "metadata": {},
   "outputs": [
    {
     "name": "stdout",
     "output_type": "stream",
     "text": [
      "del\n"
     ]
    }
   ],
   "source": [
    "del b1"
   ]
  },
  {
   "cell_type": "code",
   "execution_count": 9,
   "metadata": {},
   "outputs": [
    {
     "data": {
      "text/plain": [
       "builtin_function_or_method"
      ]
     },
     "execution_count": 9,
     "metadata": {},
     "output_type": "execute_result"
    }
   ],
   "source": [
    "type(len)"
   ]
  },
  {
   "cell_type": "code",
   "execution_count": 10,
   "metadata": {},
   "outputs": [
    {
     "data": {
      "text/plain": [
       "builtin_function_or_method"
      ]
     },
     "execution_count": 10,
     "metadata": {},
     "output_type": "execute_result"
    }
   ],
   "source": [
    "type(dir)"
   ]
  },
  {
   "cell_type": "code",
   "execution_count": 11,
   "metadata": {},
   "outputs": [
    {
     "data": {
      "text/plain": [
       "type"
      ]
     },
     "execution_count": 11,
     "metadata": {},
     "output_type": "execute_result"
    }
   ],
   "source": [
    "type(int)"
   ]
  },
  {
   "cell_type": "code",
   "execution_count": 12,
   "metadata": {},
   "outputs": [
    {
     "data": {
      "text/plain": [
       "type"
      ]
     },
     "execution_count": 12,
     "metadata": {},
     "output_type": "execute_result"
    }
   ],
   "source": [
    "type(B)"
   ]
  },
  {
   "cell_type": "code",
   "execution_count": 13,
   "metadata": {},
   "outputs": [
    {
     "data": {
      "text/plain": [
       "111"
      ]
     },
     "execution_count": 13,
     "metadata": {},
     "output_type": "execute_result"
    }
   ],
   "source": [
    "#说明int也是一个类对象\n",
    "#使用工厂函数就是实例化一个对象\n",
    "int('111')"
   ]
  },
  {
   "cell_type": "code",
   "execution_count": 14,
   "metadata": {},
   "outputs": [],
   "source": [
    "#对象的加减就是int类的魔法方法实现的,我们可以对他进行重定义\n",
    "#定义一个自己的整形类对象:\n",
    "class New_int(int):\n",
    "    #重写父类的加减运算;\n",
    "    def __add__(self,other):\n",
    "        return super().__sub__(other)\n",
    "    def __sub__(self,other):\n",
    "        return int.__add__(self,other)"
   ]
  },
  {
   "cell_type": "code",
   "execution_count": 15,
   "metadata": {},
   "outputs": [],
   "source": [
    "a=New_int(5)\n",
    "b=New_int(8)"
   ]
  },
  {
   "cell_type": "code",
   "execution_count": 16,
   "metadata": {},
   "outputs": [
    {
     "data": {
      "text/plain": [
       "-3"
      ]
     },
     "execution_count": 16,
     "metadata": {},
     "output_type": "execute_result"
    }
   ],
   "source": [
    "a+b"
   ]
  },
  {
   "cell_type": "code",
   "execution_count": 61,
   "metadata": {},
   "outputs": [],
   "source": [
    "#模拟一个计时器\n",
    "import time as t\n",
    "\n",
    "class Mytimer():\n",
    "    \n",
    "    #初始化:\n",
    "    def __init__(self):\n",
    "        self.promt='请先开始计时'\n",
    "        self.unit=['年','月','天','小时','分钟','秒']\n",
    "        self.lasted=[]\n",
    "        self.begin=0\n",
    "        self.end=0\n",
    "    \n",
    "    def __str__(self):\n",
    "        return self.promt\n",
    "    \n",
    "    __repr__ = __str__\n",
    "    \n",
    "    def __add__(self,other):\n",
    "        promt='总共运行了'\n",
    "        lasted=[]\n",
    "        for index in range(6):\n",
    "            lasted.append(self.lasted[index]+other.lasted[index])\n",
    "            if lasted[index]:\n",
    "                promt+=(str(lasted[index])+self.unit[index])\n",
    "        return promt\n",
    "    \n",
    "    #开始计时\n",
    "    def start(self):\n",
    "        if self.begin:\n",
    "            print('已经开始计时.请调用stop()停止计时)')\n",
    "        else:\n",
    "            self.begin=t.localtime() #不能设为start不然会覆盖方法\n",
    "            self.promt='请调用stop()停止计时'\n",
    "            print('计时开始..')\n",
    "        \n",
    "    #停止计时\n",
    "    def stop(self):\n",
    "        if not self.begin:\n",
    "            print('未开始计时,请调用start()开始计时')\n",
    "        else: \n",
    "            self.stop=t.localtime()\n",
    "            self._calc()\n",
    "            print('计时停止.')\n",
    "        \n",
    "    #内部计算时间,私有函数\n",
    "    def _calc(self):\n",
    "        self.promt='运行了'\n",
    "        for index in range(6):\n",
    "            self.lasted.append(self.stop[index]-self.begin[index])\n",
    "            if self.lasted[index]:\n",
    "                self.promt+=(str(self.lasted[index])+self.unit[index])\n",
    "                \n",
    "        \n",
    "        \n",
    "        "
   ]
  },
  {
   "cell_type": "code",
   "execution_count": 62,
   "metadata": {},
   "outputs": [],
   "source": [
    "t1=Mytimer()"
   ]
  },
  {
   "cell_type": "code",
   "execution_count": 63,
   "metadata": {},
   "outputs": [
    {
     "data": {
      "text/plain": [
       "请先开始计时"
      ]
     },
     "execution_count": 63,
     "metadata": {},
     "output_type": "execute_result"
    }
   ],
   "source": [
    "t1"
   ]
  },
  {
   "cell_type": "code",
   "execution_count": 64,
   "metadata": {},
   "outputs": [
    {
     "name": "stdout",
     "output_type": "stream",
     "text": [
      "计时开始..\n"
     ]
    }
   ],
   "source": [
    "t1.start()"
   ]
  },
  {
   "cell_type": "code",
   "execution_count": 65,
   "metadata": {},
   "outputs": [
    {
     "name": "stdout",
     "output_type": "stream",
     "text": [
      "已经开始计时.请调用stop()停止计时)\n"
     ]
    }
   ],
   "source": [
    "t1.start()"
   ]
  },
  {
   "cell_type": "code",
   "execution_count": 66,
   "metadata": {},
   "outputs": [
    {
     "name": "stdout",
     "output_type": "stream",
     "text": [
      "计时停止.\n"
     ]
    }
   ],
   "source": [
    "t1.stop()"
   ]
  },
  {
   "cell_type": "code",
   "execution_count": 67,
   "metadata": {},
   "outputs": [
    {
     "data": {
      "text/plain": [
       "运行了2秒"
      ]
     },
     "execution_count": 67,
     "metadata": {},
     "output_type": "execute_result"
    }
   ],
   "source": [
    "t1"
   ]
  },
  {
   "cell_type": "code",
   "execution_count": 68,
   "metadata": {},
   "outputs": [
    {
     "name": "stdout",
     "output_type": "stream",
     "text": [
      "运行了2秒\n"
     ]
    }
   ],
   "source": [
    "print(t1)"
   ]
  },
  {
   "cell_type": "code",
   "execution_count": 69,
   "metadata": {},
   "outputs": [],
   "source": [
    "t2=Mytimer()"
   ]
  },
  {
   "cell_type": "code",
   "execution_count": 70,
   "metadata": {},
   "outputs": [
    {
     "name": "stdout",
     "output_type": "stream",
     "text": [
      "计时开始..\n"
     ]
    }
   ],
   "source": [
    "t2.start()"
   ]
  },
  {
   "cell_type": "code",
   "execution_count": 71,
   "metadata": {},
   "outputs": [
    {
     "name": "stdout",
     "output_type": "stream",
     "text": [
      "计时停止.\n"
     ]
    }
   ],
   "source": [
    "t2.stop()"
   ]
  },
  {
   "cell_type": "code",
   "execution_count": 72,
   "metadata": {},
   "outputs": [
    {
     "data": {
      "text/plain": [
       "运行了10秒"
      ]
     },
     "execution_count": 72,
     "metadata": {},
     "output_type": "execute_result"
    }
   ],
   "source": [
    "t2"
   ]
  },
  {
   "cell_type": "code",
   "execution_count": 73,
   "metadata": {},
   "outputs": [
    {
     "data": {
      "text/plain": [
       "'总共运行了12秒'"
      ]
     },
     "execution_count": 73,
     "metadata": {},
     "output_type": "execute_result"
    }
   ],
   "source": [
    "t1+t2"
   ]
  },
  {
   "cell_type": "code",
   "execution_count": 92,
   "metadata": {},
   "outputs": [],
   "source": [
    "#属性访问\n",
    "class C:\n",
    "    #定义当该类的属性被访问时的行为\n",
    "    def __getattribute__(self,name):\n",
    "        print(\"getattribute\")\n",
    "        return super().__getattribute__(name)\n",
    "    #定义当用户试图访问不存在的属性时\n",
    "    def __getattr__(self,name):\n",
    "        print('getattr')\n",
    "     #定义当用户试图设置属性时\n",
    "    def __setattr__(self,name,value):\n",
    "        print('setattr')\n",
    "        super().__setattr__(name,value)\n",
    "     #定义当用户试图删除属性时\n",
    "    def __delattr__(self,name):\n",
    "        print('delattr')\n",
    "        super().__delattr__(name)"
   ]
  },
  {
   "cell_type": "code",
   "execution_count": 93,
   "metadata": {},
   "outputs": [
    {
     "name": "stdout",
     "output_type": "stream",
     "text": [
      "getattribute\n",
      "getattr\n"
     ]
    }
   ],
   "source": [
    "c=C()\n",
    "c.x"
   ]
  },
  {
   "cell_type": "code",
   "execution_count": 94,
   "metadata": {},
   "outputs": [],
   "source": [
    "#一个属性触发器:当用户设置一个叫square的属性时,把值赋给宽和高\n",
    "class Rectangle:\n",
    "    \n",
    "    def __init__(self,height=0,width=0):\n",
    "        self.height=height\n",
    "        self.width=width\n",
    "    \n",
    "    #如果设置属性名为square则..否则还是使用父类的设置属性方法   \n",
    "    def __setattr__(self,name,value):\n",
    "        if name == 'square':\n",
    "            self.width=value\n",
    "            self.height=value\n",
    "        else:\n",
    "            super().__setattr__(name,value)\n",
    "    \n",
    "    def getArea(self):\n",
    "        return self.width*self.height"
   ]
  },
  {
   "cell_type": "code",
   "execution_count": 96,
   "metadata": {},
   "outputs": [],
   "source": [
    "d =Rectangle(1,1)"
   ]
  },
  {
   "cell_type": "code",
   "execution_count": 97,
   "metadata": {},
   "outputs": [
    {
     "data": {
      "text/plain": [
       "1"
      ]
     },
     "execution_count": 97,
     "metadata": {},
     "output_type": "execute_result"
    }
   ],
   "source": [
    "d.getArea()"
   ]
  },
  {
   "cell_type": "code",
   "execution_count": 98,
   "metadata": {},
   "outputs": [],
   "source": [
    "d.square=10"
   ]
  },
  {
   "cell_type": "code",
   "execution_count": 99,
   "metadata": {},
   "outputs": [
    {
     "data": {
      "text/plain": [
       "100"
      ]
     },
     "execution_count": 99,
     "metadata": {},
     "output_type": "execute_result"
    }
   ],
   "source": [
    "d.getArea()"
   ]
  },
  {
   "cell_type": "code",
   "execution_count": 100,
   "metadata": {},
   "outputs": [],
   "source": [
    "#描述符(property的原理)"
   ]
  },
  {
   "cell_type": "code",
   "execution_count": 104,
   "metadata": {},
   "outputs": [],
   "source": [
    "#描述符类:\n",
    "class MyDecriptor:\n",
    "        \n",
    "        #用于访问属性,它返回属性的值\n",
    "        def __get__(self,instance,owner):\n",
    "            print(\"getting..\",self,instance,owner)\n",
    "        \n",
    "        #将在属性分配中调用,不返回任何内容\n",
    "        def __set__(self,instance,value):\n",
    "            print('setting..',self,instance,owner)\n",
    "        \n",
    "        #控制删除操作,不返回任何内容\n",
    "        def __delete__(self,instance):\n",
    "            print('delete..',self,instance,owner)\n",
    "\n",
    "class Test():\n",
    "    x=MyDecriptor() #x就是描述符,是描述符类的实例"
   ]
  },
  {
   "cell_type": "code",
   "execution_count": 105,
   "metadata": {},
   "outputs": [],
   "source": [
    "test=Test()"
   ]
  },
  {
   "cell_type": "code",
   "execution_count": 106,
   "metadata": {},
   "outputs": [
    {
     "name": "stdout",
     "output_type": "stream",
     "text": [
      "getting.. <__main__.MyDecriptor object at 0x7f6768c89160> <__main__.Test object at 0x7f6768b17cf8> <class '__main__.Test'>\n"
     ]
    }
   ],
   "source": [
    "test.x"
   ]
  },
  {
   "cell_type": "code",
   "execution_count": null,
   "metadata": {},
   "outputs": [],
   "source": []
  }
 ],
 "metadata": {
  "kernelspec": {
   "display_name": "Python 3",
   "language": "python",
   "name": "python3"
  },
  "language_info": {
   "codemirror_mode": {
    "name": "ipython",
    "version": 3
   },
   "file_extension": ".py",
   "mimetype": "text/x-python",
   "name": "python",
   "nbconvert_exporter": "python",
   "pygments_lexer": "ipython3",
   "version": "3.6.3"
  }
 },
 "nbformat": 4,
 "nbformat_minor": 2
}
