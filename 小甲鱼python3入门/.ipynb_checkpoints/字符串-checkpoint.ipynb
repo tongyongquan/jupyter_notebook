{
 "cells": [
  {
   "cell_type": "markdown",
   "metadata": {},
   "source": [
    "字符串"
   ]
  },
  {
   "cell_type": "code",
   "execution_count": 1,
   "metadata": {},
   "outputs": [
    {
     "data": {
      "text/plain": [
       "'I love'"
      ]
     },
     "execution_count": 1,
     "metadata": {},
     "output_type": "execute_result"
    }
   ],
   "source": [
    "#类似元组的操作\n",
    "str1='I love fishc.com'\n",
    "str1[:6]"
   ]
  },
  {
   "cell_type": "code",
   "execution_count": 2,
   "metadata": {},
   "outputs": [
    {
     "data": {
      "text/plain": [
       "'e'"
      ]
     },
     "execution_count": 2,
     "metadata": {},
     "output_type": "execute_result"
    }
   ],
   "source": [
    "str1[5]"
   ]
  },
  {
   "cell_type": "code",
   "execution_count": 3,
   "metadata": {},
   "outputs": [
    {
     "data": {
      "text/plain": [
       "'I love插入的字符串 fishc.com'"
      ]
     },
     "execution_count": 3,
     "metadata": {},
     "output_type": "execute_result"
    }
   ],
   "source": [
    "str1=str1[:6]+'插入的字符串'+str1[6:]\n",
    "str1"
   ]
  },
  {
   "cell_type": "markdown",
   "metadata": {},
   "source": [
    "\n",
    "\n",
    "\n",
    "字符串有很多的内置函数:\n",
    "http://bbs.fishc.com/thread-38992-1-1.html"
   ]
  },
  {
   "cell_type": "code",
   "execution_count": 4,
   "metadata": {},
   "outputs": [
    {
     "data": {
      "text/plain": [
       "'Tongyongquan'"
      ]
     },
     "execution_count": 4,
     "metadata": {},
     "output_type": "execute_result"
    }
   ],
   "source": [
    "#capitalize() \n",
    "#字符串第一个字母大写   upper()全部改为大写\n",
    "str2='tongyongquan'\n",
    "str2.capitalize() \n"
   ]
  },
  {
   "cell_type": "code",
   "execution_count": 5,
   "metadata": {},
   "outputs": [
    {
     "name": "stdout",
     "output_type": "stream",
     "text": [
      "tong\n",
      "TONG\n"
     ]
    }
   ],
   "source": [
    "#casefold()   lower()\n",
    "#返回整个字符串改为小写\n",
    "str3='TONG'\n",
    "print(str3.casefold())   \n",
    "print(str3)  #原字符串是不变的"
   ]
  },
  {
   "cell_type": "code",
   "execution_count": 6,
   "metadata": {},
   "outputs": [
    {
     "data": {
      "text/plain": [
       "'                  TONG                  '"
      ]
     },
     "execution_count": 6,
     "metadata": {},
     "output_type": "execute_result"
    }
   ],
   "source": [
    "#center(width) \n",
    "#将字符串居中,用空格填充至width宽度\n",
    "str3.center(40)  "
   ]
  },
  {
   "cell_type": "code",
   "execution_count": 7,
   "metadata": {},
   "outputs": [
    {
     "name": "stdout",
     "output_type": "stream",
     "text": [
      "2\n",
      "0\n",
      "1\n"
     ]
    }
   ],
   "source": [
    "#count(sub[,start[,end]]) \n",
    "#返回sub在字符串里的个数,可指定start和end范围\n",
    "print('tongyongquan'.count('on'))\n",
    "print('tongyongquan'.count('on',0,2))\n",
    "print('tongyongquan'.count('on',0,3)) #和切片一样,索引范围[)"
   ]
  },
  {
   "cell_type": "code",
   "execution_count": 8,
   "metadata": {},
   "outputs": [
    {
     "name": "stdout",
     "output_type": "stream",
     "text": [
      "True\n"
     ]
    }
   ],
   "source": [
    "#endswith(sub[,start[,end]]) startwith(sub[,start[,end]])开始\n",
    "#检查是不是以sub结束,是返回True,否则False,可指定范围\n",
    "print('tong'.endswith('ng'))"
   ]
  },
  {
   "cell_type": "code",
   "execution_count": 9,
   "metadata": {},
   "outputs": [
    {
     "name": "stdout",
     "output_type": "stream",
     "text": [
      "tong\tyong\tquan\n",
      "tong yong quan\n"
     ]
    }
   ],
   "source": [
    "#expandtabs([tabsize=8])\n",
    "#把字符串中的tab符号(\\t)转化为空格,默认空格数tabsize=8\n",
    "print('tong\\tyong\\tquan')\n",
    "print('tong\\tyong\\tquan'.expandtabs(1))"
   ]
  },
  {
   "cell_type": "code",
   "execution_count": 10,
   "metadata": {},
   "outputs": [
    {
     "name": "stdout",
     "output_type": "stream",
     "text": [
      "4\n",
      "-1\n"
     ]
    }
   ],
   "source": [
    "#find(sub[,start[,end]])   rfind(sub[,start[,end]])从右边查\n",
    "#检查sub是否在字符串中,有返回索引,否则返回-1,可指定范围\n",
    "print('tongyongquan'.find('yong'))\n",
    "print('tongyongquan'.find('shuai'))"
   ]
  },
  {
   "cell_type": "code",
   "execution_count": 11,
   "metadata": {},
   "outputs": [
    {
     "name": "stdout",
     "output_type": "stream",
     "text": [
      "t#o#n#g\n"
     ]
    }
   ],
   "source": [
    "#join(sub)\n",
    "#以字符串为分隔符插入到sub的所有字符间\n",
    "print('#'.join('tong'))"
   ]
  },
  {
   "cell_type": "code",
   "execution_count": 12,
   "metadata": {},
   "outputs": [
    {
     "name": "stdout",
     "output_type": "stream",
     "text": [
      "        aa\n"
     ]
    }
   ],
   "source": [
    "#rjust(width)   ljust则左对齐\n",
    "#返回一个右对齐的字符串,用空格填充至长度width\n",
    "print('aa'.rjust(10))"
   ]
  },
  {
   "cell_type": "code",
   "execution_count": 13,
   "metadata": {},
   "outputs": [
    {
     "name": "stdout",
     "output_type": "stream",
     "text": [
      "aa\n"
     ]
    }
   ],
   "source": [
    "#lstrip()    rstrip()删除字符串末尾空格\n",
    "#去掉字符串左边的所有空格\n",
    "print(('aa'.rjust(10)).lstrip())"
   ]
  },
  {
   "cell_type": "code",
   "execution_count": 14,
   "metadata": {},
   "outputs": [
    {
     "name": "stdout",
     "output_type": "stream",
     "text": [
      "('TONG', '?', 'YONGQUAN')\n",
      "('TONG?YONGQUAN', '', '')\n"
     ]
    }
   ],
   "source": [
    "#partition(sub)   rpartition(sub)则从右边查找\n",
    "#找到子字符串sub,,将字符串分为一个三元组(..,sub,..)否则(原字符串,',')\n",
    "print('TONG?YONGQUAN'.partition('?'))\n",
    "print('TONG?YONGQUAN'.partition('#'))"
   ]
  },
  {
   "cell_type": "code",
   "execution_count": 15,
   "metadata": {},
   "outputs": [
    {
     "name": "stdout",
     "output_type": "stream",
     "text": [
      "['tong', 'yong', 'quan', '.']\n",
      "['tong', 'yong', 'quan/.']\n"
     ]
    }
   ],
   "source": [
    "#split(sep=None,maxsplit=-1)\n",
    "#以sep为分隔符(默认为空格),maxsplit为分割次数分割字符串,返回列表\n",
    "print('tong yong quan .'.split())\n",
    "print('tong/yong/quan/.'.split('/',2)) #分两次则有三个子串"
   ]
  },
  {
   "cell_type": "code",
   "execution_count": 16,
   "metadata": {},
   "outputs": [
    {
     "name": "stdout",
     "output_type": "stream",
     "text": [
      "a\n",
      "b\n",
      "c\n",
      "d\n",
      "['a', 'b', 'c', 'd']\n"
     ]
    }
   ],
   "source": [
    "#splitlines()\n",
    "#按照'\\n'分割,返回列表\n",
    "lines='a\\nb\\nc\\nd'\n",
    "print(lines)\n",
    "print(lines.splitlines())"
   ]
  },
  {
   "cell_type": "code",
   "execution_count": 17,
   "metadata": {},
   "outputs": [
    {
     "name": "stdout",
     "output_type": "stream",
     "text": [
      "tong\n",
      "tong\n"
     ]
    }
   ],
   "source": [
    "#strip([chars])\n",
    "#删除字符串前后空格,也可指定删除的字符\n",
    "print('    tong    '.strip())\n",
    "print('#####tong#####'.strip('#'))"
   ]
  },
  {
   "cell_type": "code",
   "execution_count": 18,
   "metadata": {},
   "outputs": [
    {
     "name": "stdout",
     "output_type": "stream",
     "text": [
      "tong**yqyq\n"
     ]
    }
   ],
   "source": [
    "#replace(old,new[,count])\n",
    "#将字符串中的old替换为new,可指定替换次数不超过count\n",
    "print('tongyqyqyqyq'.replace('yq','*',2))"
   ]
  },
  {
   "cell_type": "markdown",
   "metadata": {},
   "source": [
    "\n",
    "\n",
    "\n",
    "字符串的格式化"
   ]
  },
  {
   "cell_type": "code",
   "execution_count": 19,
   "metadata": {},
   "outputs": [
    {
     "name": "stdout",
     "output_type": "stream",
     "text": [
      "\\ {a} yong quan 666\n"
     ]
    }
   ],
   "source": [
    "#替换:为字符串添加参数\n",
    "#\n",
    "#format指定参数替换\n",
    "print(\"\\\\ {{a}} yong quan {b}\".format(a='打不出来',b=666))"
   ]
  },
  {
   "cell_type": "code",
   "execution_count": 20,
   "metadata": {},
   "outputs": [
    {
     "name": "stdout",
     "output_type": "stream",
     "text": [
      "\\ tong yong quan 666\n"
     ]
    }
   ],
   "source": [
    "#format位置替换\n",
    "print(\"\\\\ {0} yong quan {1}\".format('tong',666))"
   ]
  },
  {
   "cell_type": "code",
   "execution_count": 21,
   "metadata": {},
   "outputs": [
    {
     "name": "stdout",
     "output_type": "stream",
     "text": [
      "\\ tong yong quan 666\n"
     ]
    }
   ],
   "source": [
    "#格式化符号(%)替换\n",
    "print(\"\\\\ %s yong quan %d\"%('tong',666))"
   ]
  },
  {
   "cell_type": "code",
   "execution_count": 22,
   "metadata": {},
   "outputs": [],
   "source": [
    "# 格式化:将字符进行转换后再替换\n",
    "#\n",
    "# 格式化符号含义:\n",
    "# %c 字符及其ASCII码\n",
    "# %s 字符串\n",
    "# %d 整数\n",
    "# %f 浮点数,可指定精度\n",
    "# %o 无符号八进制\n",
    "# %x/X 无符号十六进制(大写)\n",
    "# %e/E 科学计数法格式浮点数(大写)\n",
    "# %g/G 根据值大小决定使用%f 或者 %e/E\n",
    "#\n",
    "# 格式化操作符辅助命令:\n",
    "# m.n m表示最小总宽度,n是小数点后位数\n",
    "# -   用于左对齐\n",
    "# + 用于在正数面前加(+)\n",
    "# # 显示几进制 八进制前加'0o'  十进制前加'0x'\n",
    "# 0 显示的数字用'0'填充\n",
    "#"
   ]
  },
  {
   "cell_type": "code",
   "execution_count": 23,
   "metadata": {},
   "outputs": [
    {
     "name": "stdout",
     "output_type": "stream",
     "text": [
      "\\ tong yong quan 6.7\n"
     ]
    }
   ],
   "source": [
    "#format里,用:定义格式转换,.1f 表示小数点后留1位的浮点型   \n",
    "print(\"\\\\ {a} yong quan {b:.1f}\".format(a='tong',b=6.66))"
   ]
  },
  {
   "cell_type": "code",
   "execution_count": 24,
   "metadata": {},
   "outputs": [
    {
     "name": "stdout",
     "output_type": "stream",
     "text": [
      "\\ tong yong quan +006.7\n"
     ]
    }
   ],
   "source": [
    "#也可以使用格式化%\n",
    "#+号表示显示+ - 符号,0表示用0补全,6.1表示长度最少6位,小数点后1位\n",
    "print(\"\\\\ %s yong quan %+06.1f\"%('tong',6.66))"
   ]
  },
  {
   "cell_type": "code",
   "execution_count": 25,
   "metadata": {
    "scrolled": true
   },
   "outputs": [
    {
     "name": "stdout",
     "output_type": "stream",
     "text": [
      "\\ tong yong quan 0x3c\n"
     ]
    }
   ],
   "source": [
    "#用#显示进制标识0x\n",
    "print(\"\\\\ %s yong quan %#x\"%('tong',60))"
   ]
  },
  {
   "cell_type": "code",
   "execution_count": 26,
   "metadata": {},
   "outputs": [
    {
     "name": "stdout",
     "output_type": "stream",
     "text": [
      "\\ tong yong quan 0X3C\n"
     ]
    }
   ],
   "source": [
    "#大写X\n",
    "print(\"\\\\ %s yong quan %#X\"%('tong',60))"
   ]
  },
  {
   "cell_type": "code",
   "execution_count": 27,
   "metadata": {},
   "outputs": [
    {
     "name": "stdout",
     "output_type": "stream",
     "text": [
      "\\ tong yong quan 3c 2.220000e+01\n"
     ]
    }
   ],
   "source": [
    "print(\"\\\\ %s yong quan %x %e\"%('tong',60,22.2))"
   ]
  },
  {
   "cell_type": "code",
   "execution_count": 28,
   "metadata": {},
   "outputs": [
    {
     "name": "stdout",
     "output_type": "stream",
     "text": [
      "\\ tong yong quan 3c 2.220000E+01\n"
     ]
    }
   ],
   "source": [
    "#大写E\n",
    "print(\"\\\\ %s yong quan %x %E\"%('tong',60,22.2))"
   ]
  },
  {
   "cell_type": "code",
   "execution_count": 29,
   "metadata": {},
   "outputs": [
    {
     "name": "stdout",
     "output_type": "stream",
     "text": [
      "\\ tong yong quan 3c 22.2\n"
     ]
    }
   ],
   "source": [
    "#%g通过值的大小决定用%f还是%e\n",
    "print(\"\\\\ %s yong quan %x %g\"%('tong',60,22.2))"
   ]
  },
  {
   "cell_type": "code",
   "execution_count": 30,
   "metadata": {},
   "outputs": [
    {
     "name": "stdout",
     "output_type": "stream",
     "text": [
      "\\ tong yong quan 0x3c 2.22e+08\n"
     ]
    }
   ],
   "source": [
    "print(\"\\\\ %s yong quan %#x %5.3g\"%('tong',60,222222222.2))"
   ]
  }
 ],
 "metadata": {
  "kernelspec": {
   "display_name": "Python 3",
   "language": "python",
   "name": "python3"
  },
  "language_info": {
   "codemirror_mode": {
    "name": "ipython",
    "version": 3
   },
   "file_extension": ".py",
   "mimetype": "text/x-python",
   "name": "python",
   "nbconvert_exporter": "python",
   "pygments_lexer": "ipython3",
   "version": "3.6.3"
  }
 },
 "nbformat": 4,
 "nbformat_minor": 2
}
