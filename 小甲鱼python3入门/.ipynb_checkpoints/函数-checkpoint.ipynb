{
 "cells": [
  {
   "cell_type": "code",
   "execution_count": 1,
   "metadata": {},
   "outputs": [],
   "source": [
    "#创建函数\n",
    "def MyFirstFunction():\n",
    "    print('一个函数')"
   ]
  },
  {
   "cell_type": "code",
   "execution_count": 2,
   "metadata": {},
   "outputs": [
    {
     "name": "stdout",
     "output_type": "stream",
     "text": [
      "一个函数\n"
     ]
    }
   ],
   "source": [
    "#使用函数\n",
    "MyFirstFunction();"
   ]
  },
  {
   "cell_type": "code",
   "execution_count": 3,
   "metadata": {},
   "outputs": [],
   "source": [
    "#使用参数\n",
    "def SecondFunction(name):\n",
    "    print(name+' yo')"
   ]
  },
  {
   "cell_type": "code",
   "execution_count": 4,
   "metadata": {},
   "outputs": [
    {
     "name": "stdout",
     "output_type": "stream",
     "text": [
      "tong yo\n"
     ]
    }
   ],
   "source": [
    "#有了参数,函数就变得可变了\n",
    "SecondFunction('tong')"
   ]
  },
  {
   "cell_type": "code",
   "execution_count": 5,
   "metadata": {},
   "outputs": [],
   "source": [
    "#可以有多个参数,可以有返回值\n",
    "def AddFunction(a,b):\n",
    "    return a+b"
   ]
  },
  {
   "cell_type": "code",
   "execution_count": 6,
   "metadata": {},
   "outputs": [
    {
     "name": "stdout",
     "output_type": "stream",
     "text": [
      "3\n"
     ]
    }
   ],
   "source": [
    "print(AddFunction(1,2))"
   ]
  },
  {
   "cell_type": "code",
   "execution_count": 7,
   "metadata": {},
   "outputs": [
    {
     "name": "stdout",
     "output_type": "stream",
     "text": [
      "tong->oooo\n",
      "tong->hello\n"
     ]
    }
   ],
   "source": [
    "#为参数指定默认值\n",
    "#传参时默认按索引顺序,可为参数指定关键字\n",
    "def SaySome (name,words='hello'):\n",
    "    print(name+'->'+words)\n",
    "\n",
    "SaySome(words='oooo',name='tong')\n",
    "SaySome(name='tong')"
   ]
  },
  {
   "cell_type": "code",
   "execution_count": 8,
   "metadata": {},
   "outputs": [
    {
     "name": "stdout",
     "output_type": "stream",
     "text": [
      "一共 7 个参数\n",
      "第一个是 2\n"
     ]
    }
   ],
   "source": [
    "#参数太多,使用搜集参数*,即将实参放入元组\n",
    "#后面如果还有自定义参数,调用时需要指定关键字,定义时最好给默认参数\n",
    "def test (*objects,a,b=1): \n",
    "    print('一共',2+len(objects),'个参数')\n",
    "    print('第一个是',objects[0])\n",
    "test(2,'hh','iii',888,666,a='t')"
   ]
  },
  {
   "cell_type": "code",
   "execution_count": 9,
   "metadata": {},
   "outputs": [],
   "source": [
    "#创建函数文档,介绍函数,方便维护\n",
    "def Doc ():\n",
    "    '函数文档'"
   ]
  },
  {
   "cell_type": "code",
   "execution_count": 10,
   "metadata": {},
   "outputs": [
    {
     "data": {
      "text/plain": [
       "'函数文档'"
      ]
     },
     "execution_count": 10,
     "metadata": {},
     "output_type": "execute_result"
    }
   ],
   "source": [
    "Doc.__doc__"
   ]
  },
  {
   "cell_type": "code",
   "execution_count": 11,
   "metadata": {},
   "outputs": [
    {
     "name": "stdout",
     "output_type": "stream",
     "text": [
      "Help on function Doc in module __main__:\n",
      "\n",
      "Doc()\n",
      "    函数文档\n",
      "\n"
     ]
    }
   ],
   "source": [
    "help(Doc)"
   ]
  },
  {
   "cell_type": "code",
   "execution_count": 12,
   "metadata": {},
   "outputs": [
    {
     "name": "stdout",
     "output_type": "stream",
     "text": [
      "aa\n"
     ]
    },
    {
     "data": {
      "text/plain": [
       "NoneType"
      ]
     },
     "execution_count": 12,
     "metadata": {},
     "output_type": "execute_result"
    }
   ],
   "source": [
    "#函数可以返回元组,列表,对象,默认返回None\n",
    "def none():\n",
    "    print ('aa')\n",
    "type (none())"
   ]
  },
  {
   "cell_type": "code",
   "execution_count": 13,
   "metadata": {},
   "outputs": [
    {
     "name": "stdout",
     "output_type": "stream",
     "text": [
      "10\n",
      "5\n"
     ]
    }
   ],
   "source": [
    "#变量的作用域:\n",
    "#函数外访问不到局部变量\n",
    "#函数内访问全局变量时,会启用屏蔽,即自动创建一个和全局变量相同\n",
    "count=5\n",
    "def MyFun():\n",
    "    count=10 #尝试修改全局变量\n",
    "    print(count)\n",
    "MyFun()\n",
    "print(count)\n",
    "#全局变量受保护无法更改"
   ]
  },
  {
   "cell_type": "code",
   "execution_count": 14,
   "metadata": {},
   "outputs": [
    {
     "name": "stdout",
     "output_type": "stream",
     "text": [
      "10\n",
      "10\n"
     ]
    }
   ],
   "source": [
    "#如果一定要在函数内修改全局变量\n",
    "count=5\n",
    "def MyFun2():\n",
    "    global count #使用关键字global指向全局变量\n",
    "    count=10 #修改全局变量\n",
    "    print(count)\n",
    "MyFun2()\n",
    "print(count)\n",
    "#全局变量被修改"
   ]
  },
  {
   "cell_type": "code",
   "execution_count": 15,
   "metadata": {},
   "outputs": [
    {
     "name": "stdout",
     "output_type": "stream",
     "text": [
      "fun1\n",
      "fun2\n"
     ]
    }
   ],
   "source": [
    "#内嵌函数:函数内再定义函数\n",
    "def fun1():\n",
    "    print('fun1')\n",
    "    def fun2():\n",
    "        print('fun2')\n",
    "    fun2()\n",
    "#内嵌的fun2只有在fun1内可以使用,外部无法访问\n",
    "fun1()"
   ]
  },
  {
   "cell_type": "code",
   "execution_count": 16,
   "metadata": {},
   "outputs": [
    {
     "data": {
      "text/plain": [
       "<function __main__.funX.<locals>.funY>"
      ]
     },
     "execution_count": 16,
     "metadata": {},
     "output_type": "execute_result"
    }
   ],
   "source": [
    "#内嵌函数访问非全局变量的外部变量时形成闭包\n",
    "def funX(x):\n",
    "    def funY(y):\n",
    "        return x*y\n",
    "    return funY #返回函数对象\n",
    "funX(5)"
   ]
  },
  {
   "cell_type": "code",
   "execution_count": 17,
   "metadata": {},
   "outputs": [
    {
     "data": {
      "text/plain": [
       "40"
      ]
     },
     "execution_count": 17,
     "metadata": {},
     "output_type": "execute_result"
    }
   ],
   "source": [
    "funX(5)(8)"
   ]
  },
  {
   "cell_type": "code",
   "execution_count": 18,
   "metadata": {},
   "outputs": [
    {
     "data": {
      "text/plain": [
       "25"
      ]
     },
     "execution_count": 18,
     "metadata": {},
     "output_type": "execute_result"
    }
   ],
   "source": [
    "#如果要改变外部变量,使用数据容器(列表..),不通过传参不需要考虑栈\n",
    "def funx():\n",
    "    x=[5]\n",
    "    def funy():\n",
    "        x[0]*=x[0]\n",
    "        return x[0]\n",
    "    return funy()\n",
    "funx()"
   ]
  },
  {
   "cell_type": "code",
   "execution_count": 19,
   "metadata": {},
   "outputs": [
    {
     "data": {
      "text/plain": [
       "25"
      ]
     },
     "execution_count": 19,
     "metadata": {},
     "output_type": "execute_result"
    }
   ],
   "source": [
    "#在python3中可以使用nonlocal关键字\n",
    "def funx2():\n",
    "    x=5\n",
    "    def funy2():\n",
    "        nonlocal x #说明x不是局部变量\n",
    "        x*=x\n",
    "        return x\n",
    "    return funy2()\n",
    "funx2()"
   ]
  },
  {
   "cell_type": "code",
   "execution_count": 20,
   "metadata": {},
   "outputs": [
    {
     "data": {
      "text/plain": [
       "<function __main__.<lambda>>"
      ]
     },
     "execution_count": 20,
     "metadata": {},
     "output_type": "execute_result"
    }
   ],
   "source": [
    "#lambda表达式(匿名函数)   lambda 参数,参数 : 返回值\n",
    "#不用定义完再调用,精简,用完就自动清除而且不用考虑命名\n",
    "lambda x,y : x+y   #返回一个函数对象"
   ]
  },
  {
   "cell_type": "code",
   "execution_count": 21,
   "metadata": {},
   "outputs": [
    {
     "data": {
      "text/plain": [
       "7"
      ]
     },
     "execution_count": 21,
     "metadata": {},
     "output_type": "execute_result"
    }
   ],
   "source": [
    "g=lambda x,y : x+y\n",
    "g(3,4)     #调用"
   ]
  },
  {
   "cell_type": "code",
   "execution_count": 22,
   "metadata": {},
   "outputs": [
    {
     "name": "stdout",
     "output_type": "stream",
     "text": [
      "Help on class filter in module builtins:\n",
      "\n",
      "class filter(object)\n",
      " |  filter(function or None, iterable) --> filter object\n",
      " |  \n",
      " |  Return an iterator yielding those items of iterable for which function(item)\n",
      " |  is true. If function is None, return the items that are true.\n",
      " |  \n",
      " |  Methods defined here:\n",
      " |  \n",
      " |  __getattribute__(self, name, /)\n",
      " |      Return getattr(self, name).\n",
      " |  \n",
      " |  __iter__(self, /)\n",
      " |      Implement iter(self).\n",
      " |  \n",
      " |  __new__(*args, **kwargs) from builtins.type\n",
      " |      Create and return a new object.  See help(type) for accurate signature.\n",
      " |  \n",
      " |  __next__(self, /)\n",
      " |      Implement next(self).\n",
      " |  \n",
      " |  __reduce__(...)\n",
      " |      Return state information for pickling.\n",
      "\n"
     ]
    }
   ],
   "source": [
    "help(filter)"
   ]
  },
  {
   "cell_type": "code",
   "execution_count": 23,
   "metadata": {},
   "outputs": [
    {
     "data": {
      "text/plain": [
       "[1, 3, 5, 7, 9]"
      ]
     },
     "execution_count": 23,
     "metadata": {},
     "output_type": "execute_result"
    }
   ],
   "source": [
    "#使用lambda作为filter的过滤函数\n",
    "#filter:传入函数/none和迭代器,返回可迭代filter对象\n",
    "#循环返回有函数返回值的,如没有指定函数,返回真值对象\n",
    "list(filter(lambda x : x%2 , range(10)))  #返回0-9中除以2有返回值的数(奇数)"
   ]
  },
  {
   "cell_type": "code",
   "execution_count": 24,
   "metadata": {},
   "outputs": [
    {
     "data": {
      "text/plain": [
       "[0, 1, 2, 3, 4, 5, 6, 7, 8, 9]"
      ]
     },
     "execution_count": 24,
     "metadata": {},
     "output_type": "execute_result"
    }
   ],
   "source": [
    "list(range(10))"
   ]
  },
  {
   "cell_type": "code",
   "execution_count": null,
   "metadata": {},
   "outputs": [],
   "source": [
    "#map:传入函数和迭代器,返回可迭代map对象\n",
    "#循环迭代器作为参数传入函数,结果作为map对象集合返回  #help(map)"
   ]
  },
  {
   "cell_type": "code",
   "execution_count": 27,
   "metadata": {},
   "outputs": [
    {
     "data": {
      "text/plain": [
       "[0, 2, 4, 6, 8, 10, 12, 14, 16, 18]"
      ]
     },
     "execution_count": 27,
     "metadata": {},
     "output_type": "execute_result"
    }
   ],
   "source": [
    "list(map(lambda x : x*2 , range(10))) #将0-9每个数代入匿名函数得到返回值"
   ]
  }
 ],
 "metadata": {
  "kernelspec": {
   "display_name": "Python 3",
   "language": "python",
   "name": "python3"
  },
  "language_info": {
   "codemirror_mode": {
    "name": "ipython",
    "version": 3
   },
   "file_extension": ".py",
   "mimetype": "text/x-python",
   "name": "python",
   "nbconvert_exporter": "python",
   "pygments_lexer": "ipython3",
   "version": "3.6.3"
  }
 },
 "nbformat": 4,
 "nbformat_minor": 2
}
