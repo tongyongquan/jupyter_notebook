{
 "cells": [
  {
   "cell_type": "code",
   "execution_count": 21,
   "metadata": {},
   "outputs": [],
   "source": [
    "#定义一个类\n",
    "class Turtle: #Python中类以大写字母开头\n",
    "    \"\"\"关于类的一个例子\"\"\"\n",
    "    #属性\n",
    "    color = 'green'\n",
    "    weitht= 18\n",
    "    #方法\n",
    "    def climb(self):\n",
    "        print('爬方法')\n",
    "    def run(self):\n",
    "        print('跑方法')\n",
    "        "
   ]
  },
  {
   "cell_type": "code",
   "execution_count": 22,
   "metadata": {},
   "outputs": [],
   "source": [
    "#声明一个对象\n",
    "tt=Turtle()"
   ]
  },
  {
   "cell_type": "code",
   "execution_count": 23,
   "metadata": {},
   "outputs": [
    {
     "name": "stdout",
     "output_type": "stream",
     "text": [
      "爬方法\n"
     ]
    }
   ],
   "source": [
    "tt.climb()"
   ]
  },
  {
   "cell_type": "code",
   "execution_count": 24,
   "metadata": {},
   "outputs": [
    {
     "data": {
      "text/plain": [
       "[5, 2]"
      ]
     },
     "execution_count": 24,
     "metadata": {},
     "output_type": "execute_result"
    }
   ],
   "source": [
    "#继承\n",
    "class Mylist(list):\n",
    "    pass\n",
    "list2=Mylist()\n",
    "list2.append(5)\n",
    "list2.append(2)\n",
    "list2"
   ]
  },
  {
   "cell_type": "code",
   "execution_count": 25,
   "metadata": {},
   "outputs": [],
   "source": [
    "list2.sort()"
   ]
  },
  {
   "cell_type": "code",
   "execution_count": 26,
   "metadata": {},
   "outputs": [
    {
     "data": {
      "text/plain": [
       "[2, 5]"
      ]
     },
     "execution_count": 26,
     "metadata": {},
     "output_type": "execute_result"
    }
   ],
   "source": [
    "list2"
   ]
  },
  {
   "cell_type": "code",
   "execution_count": 27,
   "metadata": {},
   "outputs": [
    {
     "name": "stdout",
     "output_type": "stream",
     "text": [
      "我是A\n",
      "我是B\n"
     ]
    }
   ],
   "source": [
    "#多态:方法名字相同,功能不同\n",
    "class A:\n",
    "    def fun(self):\n",
    "        print('我是A')\n",
    "\n",
    "class B:\n",
    "    def fun(self):\n",
    "        print('我是B')\n",
    "        \n",
    "a=A()\n",
    "b=B()\n",
    "a.fun()\n",
    "b.fun()"
   ]
  },
  {
   "cell_type": "code",
   "execution_count": 28,
   "metadata": {},
   "outputs": [
    {
     "name": "stdout",
     "output_type": "stream",
     "text": [
      "我叫QIUA\n",
      "我叫QIUB\n"
     ]
    }
   ],
   "source": [
    "#self->this指针(指向即将生成的对象)\n",
    "class Ball:\n",
    "    def setName(self,name):\n",
    "        self.name=name\n",
    "    def kick(self):\n",
    "        print('我叫%s'%self.name)\n",
    "a=Ball()\n",
    "b=Ball()\n",
    "a.setName('QIUA')\n",
    "a.kick()\n",
    "b.setName('QIUB')\n",
    "b.kick()"
   ]
  },
  {
   "cell_type": "code",
   "execution_count": 29,
   "metadata": {},
   "outputs": [],
   "source": [
    "#python的魔法方法__XXX__\n",
    "class Ball:\n",
    "    def __init__(self,name):\n",
    "        self.name=name\n",
    "    def kick(self):\n",
    "        print('我叫%s'%self.name)"
   ]
  },
  {
   "cell_type": "code",
   "execution_count": 30,
   "metadata": {},
   "outputs": [
    {
     "name": "stdout",
     "output_type": "stream",
     "text": [
      "我叫A\n"
     ]
    }
   ],
   "source": [
    "a=Ball('A')\n",
    "a.kick()"
   ]
  },
  {
   "cell_type": "code",
   "execution_count": 31,
   "metadata": {},
   "outputs": [
    {
     "data": {
      "text/plain": [
       "'tong'"
      ]
     },
     "execution_count": 31,
     "metadata": {},
     "output_type": "execute_result"
    }
   ],
   "source": [
    "#私有变量或函数__xxx\n",
    "#外部就访问不到\n",
    "class Person:\n",
    "    __name='tong'\n",
    "    def getName(self):\n",
    "        return self.__name\n",
    "\n",
    "p=Person()\n",
    "p.getName()"
   ]
  },
  {
   "cell_type": "code",
   "execution_count": 32,
   "metadata": {},
   "outputs": [
    {
     "data": {
      "text/plain": [
       "'tong'"
      ]
     },
     "execution_count": 32,
     "metadata": {},
     "output_type": "execute_result"
    }
   ],
   "source": [
    "#其实是伪私有,只是改名为_类名__变量名\n",
    "p._Person__name"
   ]
  },
  {
   "cell_type": "code",
   "execution_count": 33,
   "metadata": {},
   "outputs": [
    {
     "name": "stdout",
     "output_type": "stream",
     "text": [
      "parent\n"
     ]
    }
   ],
   "source": [
    "#继承\n",
    "class Parent:\n",
    "    def __init__(self):\n",
    "        self.parentname='parent'\n",
    "    def hello(self):\n",
    "        print('parent')\n",
    "class Child(Parent):\n",
    "    pass\n",
    "c=Child()\n",
    "c.hello()\n"
   ]
  },
  {
   "cell_type": "code",
   "execution_count": 34,
   "metadata": {},
   "outputs": [
    {
     "name": "stdout",
     "output_type": "stream",
     "text": [
      "child\n",
      "parent\n"
     ]
    }
   ],
   "source": [
    "#如果子类重写了父类的方法会自动覆盖\n",
    "class Child(Parent):\n",
    "    def hello(self):\n",
    "        print('child')\n",
    "d=Child()\n",
    "d.hello()\n",
    "c.hello()"
   ]
  },
  {
   "cell_type": "code",
   "execution_count": 35,
   "metadata": {},
   "outputs": [
    {
     "name": "stdout",
     "output_type": "stream",
     "text": [
      "parent\n",
      "child\n"
     ]
    }
   ],
   "source": [
    "#如果要保留父类的初始化\n",
    "class Child2(Parent):\n",
    "    def __init__(self):\n",
    "        super().__init__()  #自动寻找父类并初始化属性\n",
    "        #Parent.__init__(self) 实际上是这个这样,但改变继承对象时要改代码\n",
    "        self.childname='child'\n",
    "e=Child2()\n",
    "print(e.parentname)\n",
    "print(e.childname)"
   ]
  },
  {
   "cell_type": "code",
   "execution_count": 36,
   "metadata": {},
   "outputs": [],
   "source": [
    "#多继承,两个父类不能有继承关系\n",
    "class Child3(Child,Child2):\n",
    "    pass"
   ]
  },
  {
   "cell_type": "code",
   "execution_count": 37,
   "metadata": {},
   "outputs": [
    {
     "name": "stdout",
     "output_type": "stream",
     "text": [
      "x=1,y=3\n"
     ]
    }
   ],
   "source": [
    "#组合:如果一个类需要其他类的属性,但不是同类,可以在定义时声明对应类的对象\n",
    "class A:\n",
    "    def __init__(self,x):\n",
    "        self.num=x\n",
    "class B:\n",
    "    def __init__(self,y):\n",
    "        self.num=y\n",
    "class C:\n",
    "    def __init__(self,x,y):\n",
    "        self.a=A(x)\n",
    "        self.b=B(y)\n",
    "    def retxy(self):\n",
    "        print('x=%d,y=%d'%(self.a.num,self.b.num))\n",
    "c=C(1,3)\n",
    "c.retxy()"
   ]
  },
  {
   "cell_type": "code",
   "execution_count": 38,
   "metadata": {},
   "outputs": [
    {
     "name": "stdout",
     "output_type": "stream",
     "text": [
      "0\n",
      "0\n",
      "100\n",
      "100\n",
      "10\n"
     ]
    }
   ],
   "source": [
    "#类也是对象,实例对象可以对类对象进行覆盖\n",
    "class C:\n",
    "    count =0\n",
    "\n",
    "a=C()\n",
    "b=C()\n",
    "c=C()\n",
    "\n",
    "\n",
    "print(a.count)#实例对象获得类对象的值作为默认值\n",
    "print(c.count)\n",
    "\n",
    "C.count=100  #修改类对象后所有实例对象默认值改变\n",
    "print(c.count)\n",
    "\n",
    "c.count=10   #如果实例对象有自己的定义就会覆盖默认值\n",
    "print(a.count)\n",
    "print(c.count)"
   ]
  },
  {
   "cell_type": "code",
   "execution_count": 39,
   "metadata": {},
   "outputs": [],
   "source": [
    "#属性名会覆盖方法名,使方法无法调用\n",
    "#使用self对方法与对象进行绑定,使得每个方法只操作对应对象,且是静态方法"
   ]
  },
  {
   "cell_type": "code",
   "execution_count": 40,
   "metadata": {},
   "outputs": [
    {
     "data": {
      "text/plain": [
       "True"
      ]
     },
     "execution_count": 40,
     "metadata": {},
     "output_type": "execute_result"
    }
   ],
   "source": [
    "#一些相关的bif\n",
    "class A:\n",
    "    pass\n",
    "class B(A):\n",
    "    pass\n",
    "#返回是否是子类\n",
    "issubclass(B,A)"
   ]
  },
  {
   "cell_type": "code",
   "execution_count": 42,
   "metadata": {},
   "outputs": [],
   "source": [
    "#hasattr(object,'name')对象是否有指定的属性\n",
    "class C:\n",
    "    def __init__(self,x=0):\n",
    "        self.x=x\n",
    "c1=C()"
   ]
  },
  {
   "cell_type": "code",
   "execution_count": 43,
   "metadata": {},
   "outputs": [
    {
     "data": {
      "text/plain": [
       "True"
      ]
     },
     "execution_count": 43,
     "metadata": {},
     "output_type": "execute_result"
    }
   ],
   "source": [
    "hasattr(c1,'x')"
   ]
  },
  {
   "cell_type": "code",
   "execution_count": 44,
   "metadata": {},
   "outputs": [
    {
     "data": {
      "text/plain": [
       "0"
      ]
     },
     "execution_count": 44,
     "metadata": {},
     "output_type": "execute_result"
    }
   ],
   "source": [
    "#getattr(object,name[,default])获得对象的属性,无则返回默认值\n",
    "getattr(c1,'x')"
   ]
  },
  {
   "cell_type": "code",
   "execution_count": 45,
   "metadata": {},
   "outputs": [
    {
     "data": {
      "text/plain": [
       "'没有这个属性啊'"
      ]
     },
     "execution_count": 45,
     "metadata": {},
     "output_type": "execute_result"
    }
   ],
   "source": [
    "getattr(c1,'y','没有这个属性啊')"
   ]
  },
  {
   "cell_type": "code",
   "execution_count": 46,
   "metadata": {},
   "outputs": [
    {
     "data": {
      "text/plain": [
       "99"
      ]
     },
     "execution_count": 46,
     "metadata": {},
     "output_type": "execute_result"
    }
   ],
   "source": [
    "#setattr(object,name,value)对对象属性赋值,没有就新建\n",
    "setattr(c1,'y',99)\n",
    "getattr(c1,'y','没有这个属性啊')"
   ]
  },
  {
   "cell_type": "code",
   "execution_count": 48,
   "metadata": {},
   "outputs": [
    {
     "name": "stdout",
     "output_type": "stream",
     "text": [
      "{'x': 0, 'y': 99}\n",
      "{'x': 0}\n"
     ]
    }
   ],
   "source": [
    "#delattr(object,name)#删除对象属性,不存在就抛出异常\n",
    "print(c1.__dict__)\n",
    "delattr(c1,'y')\n",
    "print(c1.__dict__)"
   ]
  },
  {
   "cell_type": "code",
   "execution_count": 50,
   "metadata": {},
   "outputs": [],
   "source": [
    "#property(获得值的方法,修改值得方法,删除值的方法)通过属性设置属性\n",
    "#用户调用的x接口不变,而我们可以任意修改传入的函数\n",
    "class C:\n",
    "    def __init__(self,size=10):\n",
    "        self.size=size\n",
    "    def getSize(self):\n",
    "        return self.size\n",
    "    def setSize(self,value):\n",
    "        self.size=value\n",
    "    def delSize(self):\n",
    "        del self.size\n",
    "    x=property(getSize,setSize,delSize)"
   ]
  },
  {
   "cell_type": "code",
   "execution_count": 51,
   "metadata": {},
   "outputs": [],
   "source": [
    "c1=C()"
   ]
  },
  {
   "cell_type": "code",
   "execution_count": 52,
   "metadata": {},
   "outputs": [
    {
     "data": {
      "text/plain": [
       "10"
      ]
     },
     "execution_count": 52,
     "metadata": {},
     "output_type": "execute_result"
    }
   ],
   "source": [
    "c1.getSize()"
   ]
  },
  {
   "cell_type": "code",
   "execution_count": 53,
   "metadata": {},
   "outputs": [
    {
     "data": {
      "text/plain": [
       "10"
      ]
     },
     "execution_count": 53,
     "metadata": {},
     "output_type": "execute_result"
    }
   ],
   "source": [
    "c1.x"
   ]
  },
  {
   "cell_type": "code",
   "execution_count": 54,
   "metadata": {},
   "outputs": [],
   "source": [
    "c1.x=18"
   ]
  },
  {
   "cell_type": "code",
   "execution_count": 55,
   "metadata": {},
   "outputs": [
    {
     "data": {
      "text/plain": [
       "18"
      ]
     },
     "execution_count": 55,
     "metadata": {},
     "output_type": "execute_result"
    }
   ],
   "source": [
    "c1.x"
   ]
  },
  {
   "cell_type": "code",
   "execution_count": 56,
   "metadata": {},
   "outputs": [],
   "source": [
    "del c1.x"
   ]
  },
  {
   "cell_type": "code",
   "execution_count": 58,
   "metadata": {},
   "outputs": [
    {
     "ename": "AttributeError",
     "evalue": "'C' object has no attribute 'size'",
     "output_type": "error",
     "traceback": [
      "\u001b[0;31m---------------------------------------------------------------------------\u001b[0m",
      "\u001b[0;31mAttributeError\u001b[0m                            Traceback (most recent call last)",
      "\u001b[0;32m<ipython-input-58-c3ac0ded25e8>\u001b[0m in \u001b[0;36m<module>\u001b[0;34m()\u001b[0m\n\u001b[0;32m----> 1\u001b[0;31m \u001b[0mc1\u001b[0m\u001b[0;34m.\u001b[0m\u001b[0mx\u001b[0m\u001b[0;34m\u001b[0m\u001b[0m\n\u001b[0m",
      "\u001b[0;32m<ipython-input-50-cb4175d9088b>\u001b[0m in \u001b[0;36mgetSize\u001b[0;34m(self)\u001b[0m\n\u001b[1;32m      4\u001b[0m         \u001b[0mself\u001b[0m\u001b[0;34m.\u001b[0m\u001b[0msize\u001b[0m\u001b[0;34m=\u001b[0m\u001b[0msize\u001b[0m\u001b[0;34m\u001b[0m\u001b[0m\n\u001b[1;32m      5\u001b[0m     \u001b[0;32mdef\u001b[0m \u001b[0mgetSize\u001b[0m\u001b[0;34m(\u001b[0m\u001b[0mself\u001b[0m\u001b[0;34m)\u001b[0m\u001b[0;34m:\u001b[0m\u001b[0;34m\u001b[0m\u001b[0m\n\u001b[0;32m----> 6\u001b[0;31m         \u001b[0;32mreturn\u001b[0m \u001b[0mself\u001b[0m\u001b[0;34m.\u001b[0m\u001b[0msize\u001b[0m\u001b[0;34m\u001b[0m\u001b[0m\n\u001b[0m\u001b[1;32m      7\u001b[0m     \u001b[0;32mdef\u001b[0m \u001b[0msetSize\u001b[0m\u001b[0;34m(\u001b[0m\u001b[0mself\u001b[0m\u001b[0;34m,\u001b[0m\u001b[0mvalue\u001b[0m\u001b[0;34m)\u001b[0m\u001b[0;34m:\u001b[0m\u001b[0;34m\u001b[0m\u001b[0m\n\u001b[1;32m      8\u001b[0m         \u001b[0mself\u001b[0m\u001b[0;34m.\u001b[0m\u001b[0msize\u001b[0m\u001b[0;34m=\u001b[0m\u001b[0mvalue\u001b[0m\u001b[0;34m\u001b[0m\u001b[0m\n",
      "\u001b[0;31mAttributeError\u001b[0m: 'C' object has no attribute 'size'"
     ]
    }
   ],
   "source": [
    "c1.x"
   ]
  },
  {
   "cell_type": "code",
   "execution_count": null,
   "metadata": {},
   "outputs": [],
   "source": []
  }
 ],
 "metadata": {
  "kernelspec": {
   "display_name": "Python 3",
   "language": "python",
   "name": "python3"
  },
  "language_info": {
   "codemirror_mode": {
    "name": "ipython",
    "version": 3
   },
   "file_extension": ".py",
   "mimetype": "text/x-python",
   "name": "python",
   "nbconvert_exporter": "python",
   "pygments_lexer": "ipython3",
   "version": "3.6.3"
  }
 },
 "nbformat": 4,
 "nbformat_minor": 2
}
