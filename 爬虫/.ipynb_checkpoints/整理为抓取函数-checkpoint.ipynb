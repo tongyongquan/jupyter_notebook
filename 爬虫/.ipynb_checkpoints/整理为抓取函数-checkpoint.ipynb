{
 "cells": [
  {
   "cell_type": "code",
   "execution_count": 1,
   "metadata": {},
   "outputs": [],
   "source": [
    "import requests\n",
    "from bs4 import BeautifulSoup\n",
    "import re\n",
    "import json\n",
    "from datetime import datetime"
   ]
  },
  {
   "cell_type": "code",
   "execution_count": 2,
   "metadata": {},
   "outputs": [],
   "source": [
    "#每个页面抓取评论数方式相同,应建立评论数抽取函数\n",
    "#找到返回了评论数的url模板,对比发现标识文章的是&newsid,相同部分为comos-,其他使用{}参数替换\n",
    "#这里的channel也是参数,不过暂时爬取gn(国内新闻评论)\n",
    "commentURL='http://comment5.news.sina.com.cn/page/info?version=1&format=js\\\n",
    "&channel=gn&newsid=comos-{0}&group=0&compress=1&ie=utf-8&oe=utf-8&page=1\\\n",
    "&show_reply=1&page_size=20'\n",
    "\n",
    "def getCommentCount(newsurl):\n",
    "    #先从newsurl内取得newsid\n",
    "    m=re.search('doc-i(.+).shtml',newsurl)\n",
    "    newsid=m.group(1)\n",
    "    print(newsid)\n",
    "    #将newsid放到请求模板中,发送请求\n",
    "    resinfo=requests.get(commentURL.format(newsid))\n",
    "    resinfo.encoding='utf-8'\n",
    "    #将得到的json转化为字典\n",
    "    jd = json.loads(resinfo.text.strip('var data='))\n",
    "    #得到内嵌字典里的评论数\n",
    "    return jd['result']['count']['total']"
   ]
  },
  {
   "cell_type": "code",
   "execution_count": 3,
   "metadata": {},
   "outputs": [
    {
     "name": "stdout",
     "output_type": "stream",
     "text": [
      "fyqrewi9270282\n",
      "3905\n",
      "fyqqieu7096578\n"
     ]
    },
    {
     "ename": "KeyError",
     "evalue": "'count'",
     "output_type": "error",
     "traceback": [
      "\u001b[0;31m---------------------------------------------------------------------------\u001b[0m",
      "\u001b[0;31mKeyError\u001b[0m                                  Traceback (most recent call last)",
      "\u001b[0;32m<ipython-input-3-67f7fb9d33b9>\u001b[0m in \u001b[0;36m<module>\u001b[0;34m()\u001b[0m\n\u001b[1;32m      4\u001b[0m \u001b[0mnewsurl\u001b[0m\u001b[0;34m=\u001b[0m\u001b[0;34m'http://news.sina.com.cn/china/xlxw/2018-01-17/doc-ifyqrewi9270282.shtml'\u001b[0m\u001b[0;34m\u001b[0m\u001b[0m\n\u001b[1;32m      5\u001b[0m \u001b[0mprint\u001b[0m\u001b[0;34m(\u001b[0m\u001b[0mgetCommentCount\u001b[0m\u001b[0;34m(\u001b[0m\u001b[0mnewsurl\u001b[0m\u001b[0;34m)\u001b[0m\u001b[0;34m)\u001b[0m\u001b[0;34m\u001b[0m\u001b[0m\n\u001b[0;32m----> 6\u001b[0;31m \u001b[0mprint\u001b[0m\u001b[0;34m(\u001b[0m\u001b[0mgetCommentCount\u001b[0m\u001b[0;34m(\u001b[0m\u001b[0mnews\u001b[0m\u001b[0;34m)\u001b[0m\u001b[0;34m)\u001b[0m\u001b[0;34m\u001b[0m\u001b[0m\n\u001b[0m",
      "\u001b[0;32m<ipython-input-2-e6daa3a47162>\u001b[0m in \u001b[0;36mgetCommentCount\u001b[0;34m(newsurl)\u001b[0m\n\u001b[1;32m     15\u001b[0m     \u001b[0mjd\u001b[0m \u001b[0;34m=\u001b[0m \u001b[0mjson\u001b[0m\u001b[0;34m.\u001b[0m\u001b[0mloads\u001b[0m\u001b[0;34m(\u001b[0m\u001b[0mresinfo\u001b[0m\u001b[0;34m.\u001b[0m\u001b[0mtext\u001b[0m\u001b[0;34m.\u001b[0m\u001b[0mstrip\u001b[0m\u001b[0;34m(\u001b[0m\u001b[0;34m'var data='\u001b[0m\u001b[0;34m)\u001b[0m\u001b[0;34m)\u001b[0m\u001b[0;34m\u001b[0m\u001b[0m\n\u001b[1;32m     16\u001b[0m     \u001b[0;31m#得到内嵌字典里的评论数\u001b[0m\u001b[0;34m\u001b[0m\u001b[0;34m\u001b[0m\u001b[0m\n\u001b[0;32m---> 17\u001b[0;31m     \u001b[0;32mreturn\u001b[0m \u001b[0mjd\u001b[0m\u001b[0;34m[\u001b[0m\u001b[0;34m'result'\u001b[0m\u001b[0;34m]\u001b[0m\u001b[0;34m[\u001b[0m\u001b[0;34m'count'\u001b[0m\u001b[0;34m]\u001b[0m\u001b[0;34m[\u001b[0m\u001b[0;34m'total'\u001b[0m\u001b[0;34m]\u001b[0m\u001b[0;34m\u001b[0m\u001b[0m\n\u001b[0m",
      "\u001b[0;31mKeyError\u001b[0m: 'count'"
     ]
    }
   ],
   "source": [
    "#现在可以直接使用函数爬取该站点channel=gn的评论数了\n",
    "#如果是科技类就要另外做判断\n",
    "news='http://tech.sina.com.cn/csj/2018-01-17/doc-ifyqqieu7096578.shtml'\n",
    "newsurl='http://news.sina.com.cn/china/xlxw/2018-01-17/doc-ifyqrewi9270282.shtml'\n",
    "print(getCommentCount(newsurl))\n",
    "print(getCommentCount(news))"
   ]
  },
  {
   "cell_type": "code",
   "execution_count": 4,
   "metadata": {},
   "outputs": [],
   "source": [
    "#抓取新闻函数\n",
    "def getNewsDetail(newsurl):\n",
    "    result={}\n",
    "    res = requests.get(newsurl)\n",
    "    res.encoding='utf-8'\n",
    "    soup=BeautifulSoup(res.text,'html.parser')\n",
    "    result['title']=soup.select('.main-title')[0].text\n",
    "    dt=datetime.strptime(soup.select('.date-source')[0].contents[1].text,'%Y年%m月%d日 %H:%M')\n",
    "    result['time']=datetime.strftime(dt,'%Y-%m-%d')\n",
    "    result['newssource']=soup.select('.date-source a')[0].text\n",
    "#     result['article']=[]\n",
    "#     for p in soup.select('.article p')[:-1]:\n",
    "#         result['article'].append(p.text.strip())\n",
    "#     result['article']='\\n\\n'.join( result['article'])\n",
    "    result['article']='\\n\\n'.join([p.text.strip() for p in soup.select('.article p')[:-1]])\n",
    "    result['editor']=soup.select('.show_author')[0].text.strip('责任编辑：').strip()\n",
    "    result['comments']=getCommentCount(newsurl)\n",
    "    return result"
   ]
  },
  {
   "cell_type": "code",
   "execution_count": 5,
   "metadata": {},
   "outputs": [
    {
     "name": "stdout",
     "output_type": "stream",
     "text": [
      "fyqrewi9270282\n",
      "{'title': '习近平亲民外交六个瞬间', 'time': '2018-01-17', 'newssource': '央视新闻', 'article': '原标题：习近平亲民外交六个瞬间\\n\\n作为一国元首，常在镜头前出现的习近平很少有机会展现他个人性情的一面。但当他与多年未谋面的老友重聚时，或在繁忙的外事活动间隙里，人们看到了一个不一样的习近平。\\n\\nAs the busy leader of a country of over 1.3 billion people， Chinese President Xi Jinping rarely has a chance to show his personal side to the public。 But when revisiting old friends or taking a break from diplomatic tasks， he has revealed glimpses of his personality to the world。\\n\\n三十年的友谊，你看看\\n\\nIn 1985， the Dvorchaks hosted Xi during his visit to Iowa。 Xi invited them to China 30 years later\\xa0and hosted them at the Diaoyutai State Guesthouse。\\n\\n我过去，您别站起来了\\n\\nXi awarded medals to Russian veterans for their contributions to China’s victory against Japanese aggression and the World Anti-Fascist War。 Many of the veterans attending the event had limited mobility， so Xi brought the medals over to them。\\n\\n我也是了却一个心愿\\n\\nIn 2001， Jim Bacon， then premier of Tasmania， met Xi in China and invited him to visit。 In 2014， Xi kept his promise。 Unfortunately， Bacon had passed away。 Xi still paid a visit to Bacon’s family。\\n\\n我们两人吃一块就好\\n\\nOnce a farmer himself， Xi feels close to ordinary people。 He paid a visit to a Costa Rican family in 2013。\\n\\n和体育明星自拍\\n\\nXi’s a big fan of all kinds of sports。 He paid a visit to the Manchester City Football Club\\xa0and took a selfie with Cameron and Manchester City star Sergio Aguero。\\n\\n要看千年的中国去西安，看五百年的中国去北京，看一百年的中国去上海\\n\\nXi’s popular among young people。 He met some students at Lincoln High School in Washington State in 2015。', 'editor': '刘光博', 'comments': 3905}\n"
     ]
    }
   ],
   "source": [
    "newsurl='http://news.sina.com.cn/china/xlxw/2018-01-17/doc-ifyqrewi9270282.shtml'\n",
    "Detail=getNewsDetail(newsurl)\n",
    "print (Detail)"
   ]
  }
 ],
 "metadata": {
  "kernelspec": {
   "display_name": "Python 3",
   "language": "python",
   "name": "python3"
  },
  "language_info": {
   "codemirror_mode": {
    "name": "ipython",
    "version": 3
   },
   "file_extension": ".py",
   "mimetype": "text/x-python",
   "name": "python",
   "nbconvert_exporter": "python",
   "pygments_lexer": "ipython3",
   "version": "3.6.3"
  }
 },
 "nbformat": 4,
 "nbformat_minor": 2
}
