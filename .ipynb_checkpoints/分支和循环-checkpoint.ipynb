{
 "cells": [
  {
   "cell_type": "markdown",
   "metadata": {},
   "source": [
    "分支和循环"
   ]
  },
  {
   "cell_type": "code",
   "execution_count": null,
   "metadata": {},
   "outputs": [],
   "source": [
    "#条件发生改变走入另一个分支  if elif else \n",
    "#有些事情不断地循环直到被破坏   while ,for\n",
    "#循环和分支不断地嵌套就是算法,加上数据组成了程序"
   ]
  },
  {
   "cell_type": "code",
   "execution_count": 5,
   "metadata": {},
   "outputs": [
    {
     "name": "stdout",
     "output_type": "stream",
     "text": [
      "输入成绩:55\n",
      "d\n"
     ]
    }
   ],
   "source": [
    "#elif可以避免连续if else的缩进导致结构不清\n",
    "score=int(input(\"输入成绩:\"))\n",
    "if 90<=score<=100:\n",
    "    print('a')\n",
    "elif 80<=score<90:\n",
    "    print('b')\n",
    "elif 60<=score<80:\n",
    "    print('c')\n",
    "elif 0<=score<60:\n",
    "    print('d')\n",
    "else:\n",
    "    print('输入错误')"
   ]
  },
  {
   "cell_type": "code",
   "execution_count": 6,
   "metadata": {},
   "outputs": [
    {
     "ename": "AssertionError",
     "evalue": "",
     "output_type": "error",
     "traceback": [
      "\u001b[0;31m---------------------------------------------------------------------------\u001b[0m",
      "\u001b[0;31mAssertionError\u001b[0m                            Traceback (most recent call last)",
      "\u001b[0;32m<ipython-input-6-ba15a01b72c4>\u001b[0m in \u001b[0;36m<module>\u001b[0;34m()\u001b[0m\n\u001b[1;32m      1\u001b[0m \u001b[0;31m#断言assert\u001b[0m\u001b[0;34m\u001b[0m\u001b[0;34m\u001b[0m\u001b[0m\n\u001b[0;32m----> 2\u001b[0;31m \u001b[0;32massert\u001b[0m \u001b[0;36m3\u001b[0m\u001b[0;34m>\u001b[0m\u001b[0;36m4\u001b[0m\u001b[0;34m\u001b[0m\u001b[0m\n\u001b[0m",
      "\u001b[0;31mAssertionError\u001b[0m: "
     ]
    }
   ],
   "source": [
    "#断言assert,用作插入断点\n",
    "assert 3>4"
   ]
  },
  {
   "cell_type": "code",
   "execution_count": 9,
   "metadata": {},
   "outputs": [
    {
     "name": "stdout",
     "output_type": "stream",
     "text": [
      "t o n g y o n g q u a n "
     ]
    }
   ],
   "source": [
    "#循环字符在字符串内,print默认end是换行,可以指定给一个空格\n",
    "name='tongyongquan'\n",
    "for i in name:\n",
    "    print(i,end=' ')"
   ]
  },
  {
   "cell_type": "code",
   "execution_count": 10,
   "metadata": {},
   "outputs": [
    {
     "name": "stdout",
     "output_type": "stream",
     "text": [
      "aaa 3\n",
      "bbbbbb 6\n",
      "童 1\n"
     ]
    }
   ],
   "source": [
    "#for作为迭代器可以迭代任意可迭代对象\n",
    "#len()为内置函数(bif)用作计算字符串长度\n",
    "list1=['aaa','bbbbbb','童']\n",
    "for i in list1:\n",
    "    print(i,len(i))"
   ]
  },
  {
   "cell_type": "code",
   "execution_count": 11,
   "metadata": {},
   "outputs": [
    {
     "data": {
      "text/plain": [
       "range(0, 5)"
      ]
     },
     "execution_count": 11,
     "metadata": {},
     "output_type": "execute_result"
    }
   ],
   "source": [
    "#range([start,]stop[,step])默认start=0,step=1\n",
    "#从start到stop步数为step但不包括stop本身\n",
    "range(5)"
   ]
  },
  {
   "cell_type": "code",
   "execution_count": 12,
   "metadata": {},
   "outputs": [
    {
     "data": {
      "text/plain": [
       "[0, 1, 2, 3, 4]"
      ]
     },
     "execution_count": 12,
     "metadata": {},
     "output_type": "execute_result"
    }
   ],
   "source": [
    "list(range(5))"
   ]
  },
  {
   "cell_type": "code",
   "execution_count": 13,
   "metadata": {},
   "outputs": [
    {
     "name": "stdout",
     "output_type": "stream",
     "text": [
      "0\n",
      "1\n",
      "2\n",
      "3\n",
      "4\n"
     ]
    }
   ],
   "source": [
    "for i in range(5):\n",
    "    print (i)"
   ]
  },
  {
   "cell_type": "code",
   "execution_count": 16,
   "metadata": {},
   "outputs": [
    {
     "name": "stdout",
     "output_type": "stream",
     "text": [
      "1\n",
      "3\n",
      "5\n",
      "7\n"
     ]
    }
   ],
   "source": [
    "for i in range(1,9,2):\n",
    "    print (i)"
   ]
  },
  {
   "cell_type": "code",
   "execution_count": 19,
   "metadata": {},
   "outputs": [
    {
     "name": "stdout",
     "output_type": "stream",
     "text": [
      "0 是偶数\n",
      "1\n",
      "2 是偶数\n",
      "3\n",
      "4 是偶数\n",
      "5\n",
      "6 是偶数\n",
      "7\n",
      "8 是偶数\n",
      "9\n"
     ]
    }
   ],
   "source": [
    "#continue退出本次循环继续下次循环\n",
    "#break退出当前循环\n",
    "for i in range(10):\n",
    "    if i%2!=0:   #如果是奇数\n",
    "        print(i)\n",
    "        continue  #退出本次循环,后面都不执行,继续循环\n",
    "    print(i,'是偶数')"
   ]
  },
  {
   "cell_type": "code",
   "execution_count": null,
   "metadata": {},
   "outputs": [],
   "source": []
  }
 ],
 "metadata": {
  "kernelspec": {
   "display_name": "Python 3",
   "language": "python",
   "name": "python3"
  },
  "language_info": {
   "codemirror_mode": {
    "name": "ipython",
    "version": 3
   },
   "file_extension": ".py",
   "mimetype": "text/x-python",
   "name": "python",
   "nbconvert_exporter": "python",
   "pygments_lexer": "ipython3",
   "version": "3.6.2"
  }
 },
 "nbformat": 4,
 "nbformat_minor": 2
}
